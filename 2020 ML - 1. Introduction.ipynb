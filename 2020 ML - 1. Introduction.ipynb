{
 "cells": [
  {
   "cell_type": "markdown",
   "metadata": {},
   "source": [
    "![](introduction_1)"
   ]
  },
  {
   "cell_type": "markdown",
   "metadata": {},
   "source": [
    "![](Intoduction_1.png)"
   ]
  },
  {
   "cell_type": "markdown",
   "metadata": {},
   "source": [
    "# Introction\n",
    "\n",
    "![](Introduction_1.png)\n",
    "\n",
    "机器学习就是自动找函式。\n",
    "\n",
    "![](Introduction_2.png)\n",
    "\n",
    "机器学习的第一个问题就是，你想让机器帮你找什么样的函式。\n",
    "![](Introduction_3.png)\n",
    "\n",
    "如果你要预测的是一个数值，输出是一个数值 --> Regression \n",
    "![](Introduction_4.png)\n",
    "\n",
    "如果你要预测的是一个binary value,输出只有两个可能，这个叫做Binary classficition. RNN的作业是。\n",
    "![](Introduction_5.png)\n",
    "\n",
    "如果你要预测的是一个Multi-class, 你的function有一个输入，它的输出是让机器做一个选择题，你先定好N个Class,也就是N个选项，然后从N个选项中选出一个正确的。CNN的作业是。\n",
    "![](Introduction_6.png)\n",
    "\n",
    "很多教科书说所有的机器学习就是两大类的任务，Regression输出一个数值，Classficition让机器做选择题。\n",
    "\n",
    "但是你如果只知道Regression和classification,就好像你只知道世界只有五大洲。在五大洲之外还有一个黑暗大陆。也就是，除了regression和classification之外，还有generation,我们会让机器生成比较复杂的，有结构的东西。Seq2seq就是这个作业。 GAN也是。\n",
    "![](Introduction_7.png)\n",
    "\n",
    "![](Introduction_8.png)\n",
    "\n",
    "![](Introduction_9.png)\n",
    "\n",
    "如何让机器知道我们想要找什么样的函式？其中一种方式是supervised learning. \n",
    "\n",
    "![](Introduction_10.png)\n",
    "\n",
    "提供资料给机器以后，机器怎么做学习？\n",
    "\n",
    "提供给机器有LABEL的资料以后，接下来，机器就可以评估一个函式的好坏。也就是，机器会给函式一个loss，也就是说一个函式有多好，或者一个函式有多不好。\n",
    "\n",
    "比如在下图中，它的输出只有一半是符合你的期待的，那么你就可以说，这个function的loss是50%。\n",
    "\n",
    "![](Introduction_11.png)\n",
    "\n",
    "![](Introduction_12.png)\n",
    "\n",
    "### Supervised Learning\n",
    "![](Introduction_13.png)\n",
    "\n",
    "\n",
    "#### Reinforcement learning - \n",
    "![](Introduction_14.png)\n",
    "\n",
    "\n",
    "Supervised Learning v.s. Reinforcement learning - \n",
    "\n",
    "![](Introduction_16.png)\n",
    "\n",
    "Reinforcement learning - \n",
    "![](Introduction_17.png)\n",
    "\n",
    "\n",
    "Unsupervised Learning\n",
    "\n",
    "在Unsupervised learning中，我们就是给图片一堆没有标注的data,看机器能学到什么。\n",
    "![](Introduction_18.png)\n",
    "\n",
    "## Step 1: 如何寻找函式 - 给定函式寻找范围\n",
    "![](Introduction_19.png)\n",
    "\n",
    "#### 我们会教给大家两个最经典的Network Architecture的架构，RNN和CNN。\n",
    "![](Introduction_20.png)\n",
    "\n",
    "\n",
    "## Step 2: 如何寻找函式 - （通过一个learning algorithm) Gradient Descent\n",
    "![](Introduction_21.png)\n",
    "\n",
    "Adversarial Attack\n",
    "![](Introduction_22.png)\n",
    "\n",
    "Network Compression - 将model压缩\n",
    "![](Introduction_23.png)\n",
    "\n",
    "Anomaly Dectection\n",
    "![](Introduction_25.png)\n",
    "\n",
    "Transfer Learning (Domain Adversatial Learning) - 在训练资料和测试资料不一样的情况下，还有办法让机器学到一些东西\n",
    "![](Introduction_26.png)\n",
    "\n",
    "Meta Learning = Learn to learn. 赋予机器学习学习的能力。\n",
    "![](Introduction_27.png)\n",
    "![](Introduction_28.png)\n",
    "![](Introduction_29.png)\n",
    "![](Introduction_30.png)\n",
    "\n",
    "Life-long learning\n",
    "![](Introduction_31.png)\n",
    "\n",
    "### Assignments introduction\n",
    "![](Introduction_32.png)"
   ]
  },
  {
   "cell_type": "markdown",
   "metadata": {},
   "source": [
    "# The End."
   ]
  }
 ],
 "metadata": {
  "kernelspec": {
   "display_name": "Python 3",
   "language": "python",
   "name": "python3"
  },
  "language_info": {
   "codemirror_mode": {
    "name": "ipython",
    "version": 3
   },
   "file_extension": ".py",
   "mimetype": "text/x-python",
   "name": "python",
   "nbconvert_exporter": "python",
   "pygments_lexer": "ipython3",
   "version": "3.7.4"
  }
 },
 "nbformat": 4,
 "nbformat_minor": 2
}
